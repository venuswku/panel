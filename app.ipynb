{
 "cells": [
  {
   "cell_type": "code",
   "execution_count": null,
   "metadata": {},
   "outputs": [],
   "source": [
    "import panel as pn\n",
    "pn.extension()\n",
    "\n",
    "# Create widgets.\n",
    "headings = pn.pane.Markdown('''\n",
    "## Approximately how many seconds have you lived?\n",
    "### Enter your information here and see!\n",
    "''')\n",
    "name = pn.widgets.TextInput(name='Name', value='Venus')\n",
    "age = pn.widgets.IntSlider(name='Age', value=50, start=1, end=100)\n",
    "color = pn.widgets.ColorPicker(name='Color', value='#4f4fdf')\n",
    "button = pn.widgets.Button(name='Calculate', button_type='primary')\n",
    "result = pn.widgets.StaticText()\n",
    "\n",
    "# Create functions.\n",
    "def compute_secs_lived(event):\n",
    "  secs = age.value * 365 * 24 * 60 * 60\n",
    "  result.value = f'Hello {name.value}, you have lived for approximately {secs} seconds!'\n",
    "  result.style = {'color': color.value}\n",
    "  return result\n",
    "\n",
    "# Create interactions between widgets and functions.\n",
    "button.on_click(compute_secs_lived)\n",
    "\n",
    "app = pn.Column(\"# Testing Panel\", headings, name, age, color, button, result)\n",
    "app.servable()"
   ]
  },
  {
   "cell_type": "code",
   "execution_count": null,
   "metadata": {},
   "outputs": [],
   "source": []
  }
 ],
 "metadata": {
  "kernelspec": {
   "display_name": "Python 3.9.12 ('base')",
   "language": "python",
   "name": "python3"
  },
  "language_info": {
   "codemirror_mode": {
    "name": "ipython",
    "version": 3
   },
   "file_extension": ".py",
   "mimetype": "text/x-python",
   "name": "python",
   "nbconvert_exporter": "python",
   "pygments_lexer": "ipython3",
   "version": "3.9.12"
  },
  "vscode": {
   "interpreter": {
    "hash": "e07dfb836bcf7693c4ce20f476cfebf40161271fb28d4fef9b22fcb898020fab"
   }
  }
 },
 "nbformat": 4,
 "nbformat_minor": 2
}
