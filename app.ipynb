{
 "cells": [
  {
   "cell_type": "code",
   "execution_count": 9,
   "metadata": {},
   "outputs": [
    {
     "data": {
      "application/javascript": "(function(root) {\n  function now() {\n    return new Date();\n  }\n\n  var force = true;\n\n  if (typeof root._bokeh_onload_callbacks === \"undefined\" || force === true) {\n    root._bokeh_onload_callbacks = [];\n    root._bokeh_is_loading = undefined;\n  }\n\n  if (typeof (root._bokeh_timeout) === \"undefined\" || force === true) {\n    root._bokeh_timeout = Date.now() + 5000;\n    root._bokeh_failed_load = false;\n  }\n\n  function run_callbacks() {\n    try {\n      root._bokeh_onload_callbacks.forEach(function(callback) {\n        if (callback != null)\n          callback();\n      });\n    } finally {\n      delete root._bokeh_onload_callbacks\n    }\n    console.debug(\"Bokeh: all callbacks have finished\");\n  }\n\n  function load_libs(css_urls, js_urls, js_modules, callback) {\n    if (css_urls == null) css_urls = [];\n    if (js_urls == null) js_urls = [];\n    if (js_modules == null) js_modules = [];\n\n    root._bokeh_onload_callbacks.push(callback);\n    if (root._bokeh_is_loading > 0) {\n      console.debug(\"Bokeh: BokehJS is being loaded, scheduling callback at\", now());\n      return null;\n    }\n    if (js_urls.length === 0 && js_modules.length === 0) {\n      run_callbacks();\n      return null;\n    }\n    console.debug(\"Bokeh: BokehJS not loaded, scheduling load and callback at\", now());\n\n    function on_load() {\n      root._bokeh_is_loading--;\n      if (root._bokeh_is_loading === 0) {\n        console.debug(\"Bokeh: all BokehJS libraries/stylesheets loaded\");\n        run_callbacks()\n      }\n    }\n\n    function on_error() {\n      console.error(\"failed to load \" + url);\n    }\n\n    for (var i = 0; i < css_urls.length; i++) {\n      var url = css_urls[i];\n      const element = document.createElement(\"link\");\n      element.onload = on_load;\n      element.onerror = on_error;\n      element.rel = \"stylesheet\";\n      element.type = \"text/css\";\n      element.href = url;\n      console.debug(\"Bokeh: injecting link tag for BokehJS stylesheet: \", url);\n      document.body.appendChild(element);\n    }\n\n    var skip = [];\n    if (window.requirejs) {\n      window.requirejs.config({'packages': {}, 'paths': {'gridstack': 'https://cdn.jsdelivr.net/npm/gridstack@4.2.5/dist/gridstack-h5', 'notyf': 'https://cdn.jsdelivr.net/npm/notyf@3/notyf.min'}, 'shim': {'gridstack': {'exports': 'GridStack'}}});\n      require([\"gridstack\"], function(GridStack) {\n\twindow.GridStack = GridStack\n\ton_load()\n      })\n      require([\"notyf\"], function() {\n\ton_load()\n      })\n      root._bokeh_is_loading = css_urls.length + 2;\n    } else {\n      root._bokeh_is_loading = css_urls.length + js_urls.length + js_modules.length;\n    }    if (((window['GridStack'] !== undefined) && (!(window['GridStack'] instanceof HTMLElement))) || window.requirejs) {\n      var urls = ['https://cdn.jsdelivr.net/npm/gridstack@4.2.5/dist/gridstack-h5.js'];\n      for (var i = 0; i < urls.length; i++) {\n        skip.push(urls[i])\n      }\n    }    if (((window['Notyf'] !== undefined) && (!(window['Notyf'] instanceof HTMLElement))) || window.requirejs) {\n      var urls = ['https://cdn.jsdelivr.net/npm/notyf@3/notyf.min.js'];\n      for (var i = 0; i < urls.length; i++) {\n        skip.push(urls[i])\n      }\n    }    for (var i = 0; i < js_urls.length; i++) {\n      var url = js_urls[i];\n      if (skip.indexOf(url) >= 0) {\n\tif (!window.requirejs) {\n\t  on_load();\n\t}\n\tcontinue;\n      }\n      var element = document.createElement('script');\n      element.onload = on_load;\n      element.onerror = on_error;\n      element.async = false;\n      element.src = url;\n      console.debug(\"Bokeh: injecting script tag for BokehJS library: \", url);\n      document.head.appendChild(element);\n    }\n    for (var i = 0; i < js_modules.length; i++) {\n      var url = js_modules[i];\n      if (skip.indexOf(url) >= 0) {\n\tif (!window.requirejs) {\n\t  on_load();\n\t}\n\tcontinue;\n      }\n      var element = document.createElement('script');\n      element.onload = on_load;\n      element.onerror = on_error;\n      element.async = false;\n      element.src = url;\n      element.type = \"module\";\n      console.debug(\"Bokeh: injecting script tag for BokehJS library: \", url);\n      document.head.appendChild(element);\n    }\n    if (!js_urls.length && !js_modules.length) {\n      on_load()\n    }\n  };\n\n  function inject_raw_css(css) {\n    const element = document.createElement(\"style\");\n    element.appendChild(document.createTextNode(css));\n    document.body.appendChild(element);\n  }\n\n  var js_urls = [\"https://cdn.bokeh.org/bokeh/release/bokeh-2.4.3.min.js\", \"https://cdn.bokeh.org/bokeh/release/bokeh-gl-2.4.3.min.js\", \"https://cdn.bokeh.org/bokeh/release/bokeh-widgets-2.4.3.min.js\", \"https://cdn.bokeh.org/bokeh/release/bokeh-tables-2.4.3.min.js\", \"https://cdn.bokeh.org/bokeh/release/bokeh-mathjax-2.4.3.min.js\", \"https://cdn.jsdelivr.net/npm/notyf@3/notyf.min.js\", \"https://unpkg.com/@holoviz/panel@0.13.1/dist/panel.min.js\"];\n  var js_modules = [];\n  var css_urls = [\"https://cdn.jsdelivr.net/npm/notyf@3/notyf.min.css\", \"https://cdnjs.cloudflare.com/ajax/libs/font-awesome/5.15.1/css/all.min.css\", \"https://unpkg.com/@holoviz/panel@0.13.1/dist/css/alerts.css\", \"https://unpkg.com/@holoviz/panel@0.13.1/dist/css/card.css\", \"https://unpkg.com/@holoviz/panel@0.13.1/dist/css/dataframe.css\", \"https://unpkg.com/@holoviz/panel@0.13.1/dist/css/debugger.css\", \"https://unpkg.com/@holoviz/panel@0.13.1/dist/css/json.css\", \"https://unpkg.com/@holoviz/panel@0.13.1/dist/css/loading.css\", \"https://unpkg.com/@holoviz/panel@0.13.1/dist/css/markdown.css\", \"https://unpkg.com/@holoviz/panel@0.13.1/dist/css/widgets.css\"];\n  var inline_js = [    function(Bokeh) {\n      inject_raw_css(\"\\n    .bk.pn-loading.arcs:before {\\n      background-image: url(\\\"data:image/svg+xml;base64,PHN2ZyB4bWxucz0iaHR0cDovL3d3dy53My5vcmcvMjAwMC9zdmciIHhtbG5zOnhsaW5rPSJodHRwOi8vd3d3LnczLm9yZy8xOTk5L3hsaW5rIiBzdHlsZT0ibWFyZ2luOiBhdXRvOyBiYWNrZ3JvdW5kOiBub25lOyBkaXNwbGF5OiBibG9jazsgc2hhcGUtcmVuZGVyaW5nOiBhdXRvOyIgdmlld0JveD0iMCAwIDEwMCAxMDAiIHByZXNlcnZlQXNwZWN0UmF0aW89InhNaWRZTWlkIj4gIDxjaXJjbGUgY3g9IjUwIiBjeT0iNTAiIHI9IjMyIiBzdHJva2Utd2lkdGg9IjgiIHN0cm9rZT0iI2MzYzNjMyIgc3Ryb2tlLWRhc2hhcnJheT0iNTAuMjY1NDgyNDU3NDM2NjkgNTAuMjY1NDgyNDU3NDM2NjkiIGZpbGw9Im5vbmUiIHN0cm9rZS1saW5lY2FwPSJyb3VuZCI+ICAgIDxhbmltYXRlVHJhbnNmb3JtIGF0dHJpYnV0ZU5hbWU9InRyYW5zZm9ybSIgdHlwZT0icm90YXRlIiByZXBlYXRDb3VudD0iaW5kZWZpbml0ZSIgZHVyPSIxcyIga2V5VGltZXM9IjA7MSIgdmFsdWVzPSIwIDUwIDUwOzM2MCA1MCA1MCI+PC9hbmltYXRlVHJhbnNmb3JtPiAgPC9jaXJjbGU+PC9zdmc+\\\");\\n      background-size: auto calc(min(50%, 400px));\\n    }\\n    \");\n    },    function(Bokeh) {\n      Bokeh.set_log_level(\"info\");\n    },\nfunction(Bokeh) {} // ensure no trailing comma for IE\n  ];\n\n  function run_inline_js() {\n    if ((root.Bokeh !== undefined) || (force === true)) {\n      for (var i = 0; i < inline_js.length; i++) {\n        inline_js[i].call(root, root.Bokeh);\n      }} else if (Date.now() < root._bokeh_timeout) {\n      setTimeout(run_inline_js, 100);\n    } else if (!root._bokeh_failed_load) {\n      console.log(\"Bokeh: BokehJS failed to load within specified timeout.\");\n      root._bokeh_failed_load = true;\n    }\n  }\n\n  if (root._bokeh_is_loading === 0) {\n    console.debug(\"Bokeh: BokehJS loaded, going straight to plotting\");\n    run_inline_js();\n  } else {\n    load_libs(css_urls, js_urls, js_modules, function() {\n      console.debug(\"Bokeh: BokehJS plotting callback run at\", now());\n      run_inline_js();\n    });\n  }\n}(window));",
      "application/vnd.holoviews_load.v0+json": ""
     },
     "metadata": {},
     "output_type": "display_data"
    },
    {
     "data": {
      "application/javascript": "\nif ((window.PyViz === undefined) || (window.PyViz instanceof HTMLElement)) {\n  window.PyViz = {comms: {}, comm_status:{}, kernels:{}, receivers: {}, plot_index: []}\n}\n\n\n    function JupyterCommManager() {\n    }\n\n    JupyterCommManager.prototype.register_target = function(plot_id, comm_id, msg_handler) {\n      if (window.comm_manager || ((window.Jupyter !== undefined) && (Jupyter.notebook.kernel != null))) {\n        var comm_manager = window.comm_manager || Jupyter.notebook.kernel.comm_manager;\n        comm_manager.register_target(comm_id, function(comm) {\n          comm.on_msg(msg_handler);\n        });\n      } else if ((plot_id in window.PyViz.kernels) && (window.PyViz.kernels[plot_id])) {\n        window.PyViz.kernels[plot_id].registerCommTarget(comm_id, function(comm) {\n          comm.onMsg = msg_handler;\n        });\n      } else if (typeof google != 'undefined' && google.colab.kernel != null) {\n        google.colab.kernel.comms.registerTarget(comm_id, (comm) => {\n          var messages = comm.messages[Symbol.asyncIterator]();\n          function processIteratorResult(result) {\n            var message = result.value;\n            console.log(message)\n            var content = {data: message.data, comm_id};\n            var buffers = []\n            for (var buffer of message.buffers || []) {\n              buffers.push(new DataView(buffer))\n            }\n            var metadata = message.metadata || {};\n            var msg = {content, buffers, metadata}\n            msg_handler(msg);\n            return messages.next().then(processIteratorResult);\n          }\n          return messages.next().then(processIteratorResult);\n        })\n      }\n    }\n\n    JupyterCommManager.prototype.get_client_comm = function(plot_id, comm_id, msg_handler) {\n      if (comm_id in window.PyViz.comms) {\n        return window.PyViz.comms[comm_id];\n      } else if (window.comm_manager || ((window.Jupyter !== undefined) && (Jupyter.notebook.kernel != null))) {\n        var comm_manager = window.comm_manager || Jupyter.notebook.kernel.comm_manager;\n        var comm = comm_manager.new_comm(comm_id, {}, {}, {}, comm_id);\n        if (msg_handler) {\n          comm.on_msg(msg_handler);\n        }\n      } else if ((plot_id in window.PyViz.kernels) && (window.PyViz.kernels[plot_id])) {\n        var comm = window.PyViz.kernels[plot_id].connectToComm(comm_id);\n        comm.open();\n        if (msg_handler) {\n          comm.onMsg = msg_handler;\n        }\n      } else if (typeof google != 'undefined' && google.colab.kernel != null) {\n        var comm_promise = google.colab.kernel.comms.open(comm_id)\n        comm_promise.then((comm) => {\n          window.PyViz.comms[comm_id] = comm;\n          if (msg_handler) {\n            var messages = comm.messages[Symbol.asyncIterator]();\n            function processIteratorResult(result) {\n              var message = result.value;\n              var content = {data: message.data};\n              var metadata = message.metadata || {comm_id};\n              var msg = {content, metadata}\n              msg_handler(msg);\n              return messages.next().then(processIteratorResult);\n            }\n            return messages.next().then(processIteratorResult);\n          }\n        }) \n        var sendClosure = (data, metadata, buffers, disposeOnDone) => {\n          return comm_promise.then((comm) => {\n            comm.send(data, metadata, buffers, disposeOnDone);\n          });\n        };\n        var comm = {\n          send: sendClosure\n        };\n      }\n      window.PyViz.comms[comm_id] = comm;\n      return comm;\n    }\n    window.PyViz.comm_manager = new JupyterCommManager();\n    \n\n\nvar JS_MIME_TYPE = 'application/javascript';\nvar HTML_MIME_TYPE = 'text/html';\nvar EXEC_MIME_TYPE = 'application/vnd.holoviews_exec.v0+json';\nvar CLASS_NAME = 'output';\n\n/**\n * Render data to the DOM node\n */\nfunction render(props, node) {\n  var div = document.createElement(\"div\");\n  var script = document.createElement(\"script\");\n  node.appendChild(div);\n  node.appendChild(script);\n}\n\n/**\n * Handle when a new output is added\n */\nfunction handle_add_output(event, handle) {\n  var output_area = handle.output_area;\n  var output = handle.output;\n  if ((output.data == undefined) || (!output.data.hasOwnProperty(EXEC_MIME_TYPE))) {\n    return\n  }\n  var id = output.metadata[EXEC_MIME_TYPE][\"id\"];\n  var toinsert = output_area.element.find(\".\" + CLASS_NAME.split(' ')[0]);\n  if (id !== undefined) {\n    var nchildren = toinsert.length;\n    var html_node = toinsert[nchildren-1].children[0];\n    html_node.innerHTML = output.data[HTML_MIME_TYPE];\n    var scripts = [];\n    var nodelist = html_node.querySelectorAll(\"script\");\n    for (var i in nodelist) {\n      if (nodelist.hasOwnProperty(i)) {\n        scripts.push(nodelist[i])\n      }\n    }\n\n    scripts.forEach( function (oldScript) {\n      var newScript = document.createElement(\"script\");\n      var attrs = [];\n      var nodemap = oldScript.attributes;\n      for (var j in nodemap) {\n        if (nodemap.hasOwnProperty(j)) {\n          attrs.push(nodemap[j])\n        }\n      }\n      attrs.forEach(function(attr) { newScript.setAttribute(attr.name, attr.value) });\n      newScript.appendChild(document.createTextNode(oldScript.innerHTML));\n      oldScript.parentNode.replaceChild(newScript, oldScript);\n    });\n    if (JS_MIME_TYPE in output.data) {\n      toinsert[nchildren-1].children[1].textContent = output.data[JS_MIME_TYPE];\n    }\n    output_area._hv_plot_id = id;\n    if ((window.Bokeh !== undefined) && (id in Bokeh.index)) {\n      window.PyViz.plot_index[id] = Bokeh.index[id];\n    } else {\n      window.PyViz.plot_index[id] = null;\n    }\n  } else if (output.metadata[EXEC_MIME_TYPE][\"server_id\"] !== undefined) {\n    var bk_div = document.createElement(\"div\");\n    bk_div.innerHTML = output.data[HTML_MIME_TYPE];\n    var script_attrs = bk_div.children[0].attributes;\n    for (var i = 0; i < script_attrs.length; i++) {\n      toinsert[toinsert.length - 1].childNodes[1].setAttribute(script_attrs[i].name, script_attrs[i].value);\n    }\n    // store reference to server id on output_area\n    output_area._bokeh_server_id = output.metadata[EXEC_MIME_TYPE][\"server_id\"];\n  }\n}\n\n/**\n * Handle when an output is cleared or removed\n */\nfunction handle_clear_output(event, handle) {\n  var id = handle.cell.output_area._hv_plot_id;\n  var server_id = handle.cell.output_area._bokeh_server_id;\n  if (((id === undefined) || !(id in PyViz.plot_index)) && (server_id !== undefined)) { return; }\n  var comm = window.PyViz.comm_manager.get_client_comm(\"hv-extension-comm\", \"hv-extension-comm\", function () {});\n  if (server_id !== null) {\n    comm.send({event_type: 'server_delete', 'id': server_id});\n    return;\n  } else if (comm !== null) {\n    comm.send({event_type: 'delete', 'id': id});\n  }\n  delete PyViz.plot_index[id];\n  if ((window.Bokeh !== undefined) & (id in window.Bokeh.index)) {\n    var doc = window.Bokeh.index[id].model.document\n    doc.clear();\n    const i = window.Bokeh.documents.indexOf(doc);\n    if (i > -1) {\n      window.Bokeh.documents.splice(i, 1);\n    }\n  }\n}\n\n/**\n * Handle kernel restart event\n */\nfunction handle_kernel_cleanup(event, handle) {\n  delete PyViz.comms[\"hv-extension-comm\"];\n  window.PyViz.plot_index = {}\n}\n\n/**\n * Handle update_display_data messages\n */\nfunction handle_update_output(event, handle) {\n  handle_clear_output(event, {cell: {output_area: handle.output_area}})\n  handle_add_output(event, handle)\n}\n\nfunction register_renderer(events, OutputArea) {\n  function append_mime(data, metadata, element) {\n    // create a DOM node to render to\n    var toinsert = this.create_output_subarea(\n    metadata,\n    CLASS_NAME,\n    EXEC_MIME_TYPE\n    );\n    this.keyboard_manager.register_events(toinsert);\n    // Render to node\n    var props = {data: data, metadata: metadata[EXEC_MIME_TYPE]};\n    render(props, toinsert[0]);\n    element.append(toinsert);\n    return toinsert\n  }\n\n  events.on('output_added.OutputArea', handle_add_output);\n  events.on('output_updated.OutputArea', handle_update_output);\n  events.on('clear_output.CodeCell', handle_clear_output);\n  events.on('delete.Cell', handle_clear_output);\n  events.on('kernel_ready.Kernel', handle_kernel_cleanup);\n\n  OutputArea.prototype.register_mime_type(EXEC_MIME_TYPE, append_mime, {\n    safe: true,\n    index: 0\n  });\n}\n\nif (window.Jupyter !== undefined) {\n  try {\n    var events = require('base/js/events');\n    var OutputArea = require('notebook/js/outputarea').OutputArea;\n    if (OutputArea.prototype.mime_types().indexOf(EXEC_MIME_TYPE) == -1) {\n      register_renderer(events, OutputArea);\n    }\n  } catch(err) {\n  }\n}\n",
      "application/vnd.holoviews_load.v0+json": ""
     },
     "metadata": {},
     "output_type": "display_data"
    },
    {
     "data": {
      "text/html": [
       "<style>.bk-root, .bk-root .bk:before, .bk-root .bk:after {\n",
       "  font-family: var(--jp-ui-font-size1);\n",
       "  font-size: var(--jp-ui-font-size1);\n",
       "  color: var(--jp-ui-font-color1);\n",
       "}\n",
       "</style>"
      ]
     },
     "metadata": {},
     "output_type": "display_data"
    }
   ],
   "source": [
    "import panel as pn\n",
    "from ipyleaflet import Map, basemaps, DrawControl\n",
    "pn.extension(\"ipywidgets\", sizing_mode=\"stretch_width\")"
   ]
  },
  {
   "cell_type": "code",
   "execution_count": 10,
   "metadata": {},
   "outputs": [
    {
     "data": {
      "text/plain": [
       "Watcher(inst=Button(button_type='primary', name='Calculate', sizing_mode='stretch_width'), cls=<class 'panel.widgets.button.Button'>, fn=<function compute_secs_lived at 0x00000209DC6BB130>, mode='args', onlychanged=False, parameter_names=('clicks',), what='value', queued=False, precedence=0)"
      ]
     },
     "execution_count": 10,
     "metadata": {},
     "output_type": "execute_result"
    }
   ],
   "source": [
    "# Create widgets.\n",
    "headings = pn.pane.Markdown('''\n",
    "## Approximately how many seconds have you lived?\n",
    "### Enter your information here and see!\n",
    "''')\n",
    "name = pn.widgets.TextInput(name=\"Name\", value=\"Venus\")\n",
    "age = pn.widgets.IntSlider(name=\"Age\", value=50, start=1, end=100)\n",
    "color = pn.widgets.ColorPicker(name=\"Color\", value=\"#4f4fdf\")\n",
    "calc_button = pn.widgets.Button(name=\"Calculate\", button_type=\"primary\")\n",
    "result = pn.widgets.StaticText()\n",
    "\n",
    "# Create functions.\n",
    "def compute_secs_lived(event):\n",
    "  secs = age.value * 365 * 24 * 60 * 60\n",
    "  result.value = f\"Hello {name.value}, you have lived for approximately {secs} seconds!\"\n",
    "  result.style = {\"color\": color.value}\n",
    "  return result\n",
    "\n",
    "# Create interactions between widgets and functions.\n",
    "calc_button.on_click(compute_secs_lived)"
   ]
  },
  {
   "cell_type": "code",
   "execution_count": 11,
   "metadata": {},
   "outputs": [
    {
     "data": {
      "text/plain": [
       "Watcher(inst=Button(name='Clear Drawings', sizing_mode='stretch_width'), cls=<class 'panel.widgets.button.Button'>, fn=<function clear_drawings at 0x00000209DC74D2D0>, mode='args', onlychanged=False, parameter_names=('clicks',), what='value', queued=False, precedence=0)"
      ]
     },
     "execution_count": 11,
     "metadata": {},
     "output_type": "execute_result"
    }
   ],
   "source": [
    "# Create map widgets.\n",
    "map = Map(basemap=basemaps.OpenStreetMap.France, center=[38.128, 2.588], zoom=5)\n",
    "display_geo_button = pn.widgets.Button(name=\"Display Geometry\", button_type=\"success\")\n",
    "clear_drawings_button = pn.widgets.Button(name=\"Clear Drawings\")\n",
    "\n",
    "geo = \"\"\n",
    "drawing_geometry = pn.widgets.StaticText(name=\"Last Drawing's Geometry\", value=geo)\n",
    "count = 0\n",
    "num_drawings = pn.widgets.StaticText(name=\"Number of Drawings\", value=count)\n",
    "\n",
    "# Create and customize drawing controls.\n",
    "draw_control = DrawControl(polyline={}, polygon={}, circle={}, circlemarker={})\n",
    "draw_control.rectangle = {\n",
    "  \"shapeOptions\": {\n",
    "    \"fillColor\": \"#4f4fdf\",\n",
    "    \"color\": \"#4f4fdf\",\n",
    "    \"fillOpacity\": 0.3\n",
    "  }\n",
    "}\n",
    "map.add_control(draw_control)\n",
    "\n",
    "# Save drawn rectangle and print it out.\n",
    "def save_drawing(self, action, geo_json):\n",
    "  # geo = geo_json[\"geometry\"]\n",
    "  count += 1\n",
    "\n",
    "# Print geometry of recently drawn shape.\n",
    "def print_drawing_geometry(event):\n",
    "  drawing_geometry.value = draw_control.last_draw[\"geometry\"]\n",
    "  # drawing_geometry.value = geo\n",
    "  num_drawings.value = count\n",
    "\n",
    "# Clear all drawings.\n",
    "def clear_drawings(event):\n",
    "  draw_control.clear()\n",
    "  drawing_geometry.value = \"\"\n",
    "  num_drawings.value = 0\n",
    "\n",
    "# Create interactions between widgets and functions.\n",
    "draw_control.on_draw(save_drawing)\n",
    "display_geo_button.on_click(print_drawing_geometry)\n",
    "clear_drawings_button.on_click(clear_drawings)"
   ]
  },
  {
   "cell_type": "code",
   "execution_count": 12,
   "metadata": {},
   "outputs": [
    {
     "data": {},
     "metadata": {},
     "output_type": "display_data"
    },
    {
     "data": {
      "application/vnd.holoviews_exec.v0+json": "",
      "text/html": [
       "<div id='1038'>\n",
       "  <div class=\"bk-root\" id=\"3e498a8c-79b2-4e5c-a1f5-de4420b45f23\" data-root-id=\"1038\"></div>\n",
       "</div>\n",
       "<script type=\"application/javascript\">(function(root) {\n",
       "  function embed_document(root) {\n",
       "    var docs_json = {\"c75b7bc6-e66e-447e-9874-e1ff5aa1bac5\":{\"defs\":[{\"extends\":null,\"module\":null,\"name\":\"ReactiveHTML1\",\"overrides\":[],\"properties\":[]},{\"extends\":null,\"module\":null,\"name\":\"FlexBox1\",\"overrides\":[],\"properties\":[{\"default\":\"flex-start\",\"kind\":null,\"name\":\"align_content\"},{\"default\":\"flex-start\",\"kind\":null,\"name\":\"align_items\"},{\"default\":\"row\",\"kind\":null,\"name\":\"flex_direction\"},{\"default\":\"wrap\",\"kind\":null,\"name\":\"flex_wrap\"},{\"default\":\"flex-start\",\"kind\":null,\"name\":\"justify_content\"}]},{\"extends\":null,\"module\":null,\"name\":\"GridStack1\",\"overrides\":[],\"properties\":[{\"default\":\"warn\",\"kind\":null,\"name\":\"mode\"},{\"default\":null,\"kind\":null,\"name\":\"ncols\"},{\"default\":null,\"kind\":null,\"name\":\"nrows\"},{\"default\":true,\"kind\":null,\"name\":\"allow_resize\"},{\"default\":true,\"kind\":null,\"name\":\"allow_drag\"},{\"default\":[],\"kind\":null,\"name\":\"state\"}]},{\"extends\":null,\"module\":null,\"name\":\"click1\",\"overrides\":[],\"properties\":[{\"default\":\"\",\"kind\":null,\"name\":\"terminal_output\"},{\"default\":\"\",\"kind\":null,\"name\":\"debug_name\"},{\"default\":0,\"kind\":null,\"name\":\"clears\"}]},{\"extends\":null,\"module\":null,\"name\":\"NotificationAreaBase1\",\"overrides\":[],\"properties\":[{\"default\":\"bottom-right\",\"kind\":null,\"name\":\"position\"},{\"default\":0,\"kind\":null,\"name\":\"_clear\"}]},{\"extends\":null,\"module\":null,\"name\":\"NotificationArea1\",\"overrides\":[],\"properties\":[{\"default\":[],\"kind\":null,\"name\":\"notifications\"},{\"default\":\"bottom-right\",\"kind\":null,\"name\":\"position\"},{\"default\":0,\"kind\":null,\"name\":\"_clear\"},{\"default\":[{\"background\":\"#ffc107\",\"icon\":{\"className\":\"fas fa-exclamation-triangle\",\"color\":\"white\",\"tagName\":\"i\"},\"type\":\"warning\"},{\"background\":\"#007bff\",\"icon\":{\"className\":\"fas fa-info-circle\",\"color\":\"white\",\"tagName\":\"i\"},\"type\":\"info\"}],\"kind\":null,\"name\":\"types\"}]},{\"extends\":null,\"module\":null,\"name\":\"Notification\",\"overrides\":[],\"properties\":[{\"default\":null,\"kind\":null,\"name\":\"background\"},{\"default\":3000,\"kind\":null,\"name\":\"duration\"},{\"default\":null,\"kind\":null,\"name\":\"icon\"},{\"default\":\"\",\"kind\":null,\"name\":\"message\"},{\"default\":null,\"kind\":null,\"name\":\"notification_type\"},{\"default\":false,\"kind\":null,\"name\":\"_destroyed\"}]},{\"extends\":null,\"module\":null,\"name\":\"TemplateActions1\",\"overrides\":[],\"properties\":[{\"default\":0,\"kind\":null,\"name\":\"open_modal\"},{\"default\":0,\"kind\":null,\"name\":\"close_modal\"}]},{\"extends\":null,\"module\":null,\"name\":\"MaterialTemplateActions1\",\"overrides\":[],\"properties\":[{\"default\":0,\"kind\":null,\"name\":\"open_modal\"},{\"default\":0,\"kind\":null,\"name\":\"close_modal\"}]}],\"roots\":{\"references\":[{\"attributes\":{\"children\":[{\"id\":\"1042\"},{\"id\":\"1043\"},{\"id\":\"1044\"}],\"margin\":[0,0,0,0],\"name\":\"Row00157\",\"sizing_mode\":\"stretch_width\"},\"id\":\"1041\",\"type\":\"Row\"},{\"attributes\":{\"css_classes\":[\"markdown\"],\"margin\":[5,5,5,5],\"name\":\"Markdown00165\",\"sizing_mode\":\"stretch_width\",\"text\":\"&lt;h1&gt;Testing Panel&lt;/h1&gt;\"},\"id\":\"1039\",\"type\":\"panel.models.markup.HTML\"},{\"attributes\":{\"icon\":null,\"label\":\"Clear Drawings\",\"margin\":[5,10,5,10],\"sizing_mode\":\"stretch_width\",\"subscribed_events\":[\"button_click\"]},\"id\":\"1050\",\"type\":\"Button\"},{\"attributes\":{\"children\":[{\"id\":\"1052\"},{\"id\":\"1053\"}],\"margin\":[0,0,0,0],\"name\":\"Row00161\",\"sizing_mode\":\"stretch_width\"},\"id\":\"1051\",\"type\":\"Row\"},{\"attributes\":{\"bundle\":{\"spec\":{\"model_id\":\"5c0d457c20a4479d927cddeccc57b880\",\"version_major\":2,\"version_minor\":0},\"state\":{\"state\":{\"0cb96cfae2d24eeb93b7d94f6291a0fa\":{\"model_module\":\"jupyter-leaflet\",\"model_module_version\":\"^0.17\",\"model_name\":\"LeafletTileLayerModel\",\"state\":{\"attribution\":\"&copy; OpenStreetMap France | &copy; <a href=\\\"https://www.openstreetmap.org/copyright\\\">OpenStreetMap</a> contributors\",\"base\":true,\"max_zoom\":20,\"min_zoom\":1,\"name\":\"OpenStreetMap.France\",\"options\":[\"attribution\",\"bounds\",\"detect_retina\",\"max_native_zoom\",\"max_zoom\",\"min_native_zoom\",\"min_zoom\",\"no_wrap\",\"tile_size\",\"tms\",\"zoom_offset\"],\"url\":\"https://a.tile.openstreetmap.fr/osmfr/{z}/{x}/{y}.png\"}},\"1518373e04ac4d238fd8db0927a13683\":{\"model_module\":\"jupyter-leaflet\",\"model_module_version\":\"^0.17\",\"model_name\":\"LeafletDrawControlModel\",\"state\":{\"circle\":{},\"circlemarker\":{},\"data\":[],\"marker\":{},\"options\":[\"position\"],\"polygon\":{},\"polyline\":{},\"rectangle\":{\"shapeOptions\":{\"color\":\"#4f4fdf\",\"fillColor\":\"#4f4fdf\",\"fillOpacity\":0.3}}}},\"26d97159c184488e9a7f57e0cb97c941\":{\"model_module\":\"jupyter-leaflet\",\"model_module_version\":\"^0.17\",\"model_name\":\"LeafletMapStyleModel\",\"state\":{}},\"4579d9b1c7b04403b7686d20da355d3b\":{\"model_module\":\"jupyter-leaflet\",\"model_module_version\":\"^0.17\",\"model_name\":\"LeafletAttributionControlModel\",\"state\":{\"options\":[\"position\",\"prefix\"],\"position\":\"bottomright\"}},\"5c0d457c20a4479d927cddeccc57b880\":{\"model_module\":\"jupyter-leaflet\",\"model_module_version\":\"^0.17\",\"model_name\":\"LeafletMapModel\",\"state\":{\"_dom_classes\":[],\"center\":[38.128,2.588],\"controls\":[\"IPY_MODEL_f396ea0a8e694aec88ba8bb54f01fdd9\",\"IPY_MODEL_4579d9b1c7b04403b7686d20da355d3b\",\"IPY_MODEL_1518373e04ac4d238fd8db0927a13683\"],\"crs\":{\"custom\":false,\"name\":\"EPSG3857\"},\"default_style\":\"IPY_MODEL_bbcb4a1126624db497bec69090cd5fc0\",\"dragging_style\":\"IPY_MODEL_a330f3139708409a85582c194bbf3196\",\"layers\":[\"IPY_MODEL_0cb96cfae2d24eeb93b7d94f6291a0fa\"],\"layout\":\"IPY_MODEL_f02cd17d9ba64212bbeb11d9936a103f\",\"options\":[\"bounce_at_zoom_limits\",\"box_zoom\",\"center\",\"close_popup_on_click\",\"double_click_zoom\",\"dragging\",\"fullscreen\",\"inertia\",\"inertia_deceleration\",\"inertia_max_speed\",\"interpolation\",\"keyboard\",\"keyboard_pan_offset\",\"keyboard_zoom_offset\",\"max_zoom\",\"min_zoom\",\"prefer_canvas\",\"scroll_wheel_zoom\",\"tap\",\"tap_tolerance\",\"touch_zoom\",\"world_copy_jump\",\"zoom\",\"zoom_animation_threshold\",\"zoom_delta\",\"zoom_snap\"],\"panes\":{},\"style\":\"IPY_MODEL_26d97159c184488e9a7f57e0cb97c941\",\"zoom\":5.0}},\"a330f3139708409a85582c194bbf3196\":{\"model_module\":\"jupyter-leaflet\",\"model_module_version\":\"^0.17\",\"model_name\":\"LeafletMapStyleModel\",\"state\":{\"cursor\":\"move\"}},\"bbcb4a1126624db497bec69090cd5fc0\":{\"model_module\":\"jupyter-leaflet\",\"model_module_version\":\"^0.17\",\"model_name\":\"LeafletMapStyleModel\",\"state\":{}},\"f02cd17d9ba64212bbeb11d9936a103f\":{\"model_module\":\"@jupyter-widgets/base\",\"model_module_version\":\"1.2.0\",\"model_name\":\"LayoutModel\",\"state\":{}},\"f396ea0a8e694aec88ba8bb54f01fdd9\":{\"model_module\":\"jupyter-leaflet\",\"model_module_version\":\"^0.17\",\"model_name\":\"LeafletZoomControlModel\",\"state\":{\"options\":[\"position\",\"zoom_in_text\",\"zoom_in_title\",\"zoom_out_text\",\"zoom_out_title\"]}}},\"version_major\":2,\"version_minor\":0}},\"margin\":[5,5,5,5],\"sizing_mode\":\"stretch_width\"},\"id\":\"1047\",\"type\":\"panel.models.ipywidget.IPyWidget\"},{\"attributes\":{\"css_classes\":[\"markdown\"],\"margin\":[5,5,5,5],\"name\":\"Markdown00159\",\"sizing_mode\":\"stretch_width\",\"text\":\"&lt;p&gt;Last Drawing&amp;rsquo;s Geometry: &lt;/p&gt;\"},\"id\":\"1052\",\"type\":\"panel.models.markup.HTML\"},{\"attributes\":{\"children\":[{\"id\":\"1039\"},{\"id\":\"1040\"},{\"id\":\"1041\"},{\"id\":\"1045\"},{\"id\":\"1046\"},{\"id\":\"1047\"},{\"id\":\"1048\"},{\"id\":\"1051\"},{\"id\":\"1054\"}],\"margin\":[0,0,0,0],\"name\":\"Column00169\",\"sizing_mode\":\"stretch_width\"},\"id\":\"1038\",\"type\":\"Column\"},{\"attributes\":{\"margin\":[5,10,5,10],\"name\":\"\",\"sizing_mode\":\"stretch_width\"},\"id\":\"1056\",\"type\":\"Div\"},{\"attributes\":{\"color\":\"#4f4fdf\",\"margin\":[5,10,5,10],\"sizing_mode\":\"stretch_width\",\"title\":\"Color\"},\"id\":\"1044\",\"type\":\"ColorPicker\"},{\"attributes\":{\"button_type\":\"primary\",\"icon\":null,\"label\":\"Calculate\",\"margin\":[5,10,5,10],\"sizing_mode\":\"stretch_width\",\"subscribed_events\":[\"button_click\"]},\"id\":\"1045\",\"type\":\"Button\"},{\"attributes\":{\"margin\":[5,10,5,10],\"name\":\"\",\"sizing_mode\":\"stretch_width\"},\"id\":\"1046\",\"type\":\"Div\"},{\"attributes\":{\"css_classes\":[\"markdown\"],\"margin\":[5,5,5,5],\"name\":\"Markdown00146\",\"sizing_mode\":\"stretch_width\",\"text\":\"&lt;h2&gt;Approximately how many seconds have you lived?&lt;/h2&gt;\\n&lt;h3&gt;Enter your information here and see!&lt;/h3&gt;\"},\"id\":\"1040\",\"type\":\"panel.models.markup.HTML\"},{\"attributes\":{\"margin\":[5,10,5,10],\"name\":\"\",\"sizing_mode\":\"stretch_width\"},\"id\":\"1053\",\"type\":\"Div\"},{\"attributes\":{\"children\":[{\"id\":\"1049\"},{\"id\":\"1050\"}],\"margin\":[0,0,0,0],\"name\":\"Row00158\",\"sizing_mode\":\"stretch_width\"},\"id\":\"1048\",\"type\":\"Row\"},{\"attributes\":{\"button_type\":\"success\",\"icon\":null,\"label\":\"Display Geometry\",\"margin\":[5,10,5,10],\"sizing_mode\":\"stretch_width\",\"subscribed_events\":[\"button_click\"]},\"id\":\"1049\",\"type\":\"Button\"},{\"attributes\":{\"end\":100,\"margin\":[5,10,5,10],\"sizing_mode\":\"stretch_width\",\"start\":1,\"title\":\"Age\",\"value\":50},\"id\":\"1043\",\"type\":\"Slider\"},{\"attributes\":{\"children\":[{\"id\":\"1055\"},{\"id\":\"1056\"}],\"margin\":[0,0,0,0],\"name\":\"Row00164\",\"sizing_mode\":\"stretch_width\"},\"id\":\"1054\",\"type\":\"Row\"},{\"attributes\":{\"margin\":[5,10,5,10],\"max_length\":5000,\"sizing_mode\":\"stretch_width\",\"title\":\"Name\",\"value\":\"Venus\"},\"id\":\"1042\",\"type\":\"TextInput\"},{\"attributes\":{\"css_classes\":[\"markdown\"],\"margin\":[5,5,5,5],\"name\":\"Markdown00162\",\"sizing_mode\":\"stretch_width\",\"text\":\"&lt;p&gt;Number of Drawings: &lt;/p&gt;\"},\"id\":\"1055\",\"type\":\"panel.models.markup.HTML\"},{\"attributes\":{\"client_comm_id\":\"a69955de8a6c4be4adc20c3523927a0e\",\"comm_id\":\"e6a68aeac3d641acbf4fb7c307fcc8ab\",\"plot_id\":\"1038\"},\"id\":\"1057\",\"type\":\"panel.models.comm_manager.CommManager\"}],\"root_ids\":[\"1038\",\"1057\"]},\"title\":\"Bokeh Application\",\"version\":\"2.4.3\"}};\n",
       "    var render_items = [{\"docid\":\"c75b7bc6-e66e-447e-9874-e1ff5aa1bac5\",\"root_ids\":[\"1038\"],\"roots\":{\"1038\":\"3e498a8c-79b2-4e5c-a1f5-de4420b45f23\"}}];\n",
       "    root.Bokeh.embed.embed_items_notebook(docs_json, render_items);\n",
       "  }\n",
       "  if (root.Bokeh !== undefined && root.Bokeh.Panel !== undefined) {\n",
       "    embed_document(root);\n",
       "  } else {\n",
       "    var attempts = 0;\n",
       "    var timer = setInterval(function(root) {\n",
       "      if (root.Bokeh !== undefined && root.Bokeh.Panel !== undefined) {\n",
       "        clearInterval(timer);\n",
       "        embed_document(root);\n",
       "      } else if (document.readyState == \"complete\") {\n",
       "        attempts++;\n",
       "        if (attempts > 200) {\n",
       "          clearInterval(timer);\n",
       "          console.log(\"Bokeh: ERROR: Unable to run BokehJS code because BokehJS library is missing\");\n",
       "        }\n",
       "      }\n",
       "    }, 25, root)\n",
       "  }\n",
       "})(window);</script>"
      ],
      "text/plain": [
       "Column(sizing_mode='stretch_width')\n",
       "    [0] Markdown(str, sizing_mode='stretch_width')\n",
       "    [1] Markdown(str, sizing_mode='stretch_width')\n",
       "    [2] Row(sizing_mode='stretch_width')\n",
       "        [0] TextInput(name='Name', sizing_mode='stretch_width', value='Venus')\n",
       "        [1] IntSlider(end=100, name='Age', sizing_mode='stretch_width', start=1, value=50)\n",
       "        [2] ColorPicker(name='Color', sizing_mode='stretch_width', value='#4f4fdf')\n",
       "    [3] Button(button_type='primary', name='Calculate', sizing_mode='stretch_width')\n",
       "    [4] StaticText(sizing_mode='stretch_width')\n",
       "    [5] IPyLeaflet(Map)\n",
       "    [6] Row(sizing_mode='stretch_width')\n",
       "        [0] Button(button_type='success', name='Display Geometry', sizing_mode='stretch_width')\n",
       "        [1] Button(name='Clear Drawings', sizing_mode='stretch_width')\n",
       "    [7] Row(sizing_mode='stretch_width')\n",
       "        [0] Markdown(str, sizing_mode='stretch_width')\n",
       "        [1] StaticText(sizing_mode='stretch_width')\n",
       "    [8] Row(sizing_mode='stretch_width')\n",
       "        [0] Markdown(str, sizing_mode='stretch_width')\n",
       "        [1] StaticText(sizing_mode='stretch_width')"
      ]
     },
     "execution_count": 12,
     "metadata": {
      "application/vnd.holoviews_exec.v0+json": {
       "id": "1038"
      }
     },
     "output_type": "execute_result"
    }
   ],
   "source": [
    "# Add components to serve on app.\n",
    "person_inputs = pn.Row(name, age, color)\n",
    "map_buttons = pn.Row(display_geo_button, clear_drawings_button)\n",
    "app = pn.Column(\"# Testing Panel\", headings, person_inputs, calc_button, result, map, map_buttons, drawing_geometry, num_drawings)\n",
    "app.servable()"
   ]
  },
  {
   "cell_type": "code",
   "execution_count": null,
   "metadata": {},
   "outputs": [],
   "source": []
  }
 ],
 "metadata": {
  "kernelspec": {
   "display_name": "Python 3 (ipykernel)",
   "language": "python",
   "name": "python3"
  },
  "language_info": {
   "codemirror_mode": {
    "name": "ipython",
    "version": 3
   },
   "file_extension": ".py",
   "mimetype": "text/x-python",
   "name": "python",
   "nbconvert_exporter": "python",
   "pygments_lexer": "ipython3",
   "version": "3.10.6"
  },
  "vscode": {
   "interpreter": {
    "hash": "e07dfb836bcf7693c4ce20f476cfebf40161271fb28d4fef9b22fcb898020fab"
   }
  }
 },
 "nbformat": 4,
 "nbformat_minor": 2
}
