{
 "cells": [
  {
   "cell_type": "code",
   "execution_count": null,
   "metadata": {},
   "outputs": [],
   "source": [
    "import panel as pn\n",
    "from ipyleaflet import Map, basemaps, DrawControl, AwesomeIcon, Marker\n",
    "from datetime import date\n",
    "pn.extension(\"ipywidgets\", sizing_mode=\"stretch_width\")\n",
    "\n",
    "tabs = pn.Tabs(active=2, tabs_location=\"left\")"
   ]
  },
  {
   "cell_type": "code",
   "execution_count": null,
   "metadata": {},
   "outputs": [],
   "source": [
    "# Create widgets.\n",
    "headings = pn.pane.Markdown('''\n",
    "## Approximately how many seconds have you lived?\n",
    "### Enter your information here and see!\n",
    "''')\n",
    "name = pn.widgets.TextInput(name=\"Name\", value=\"Venus\")\n",
    "age = pn.widgets.IntSlider(name=\"Age\", value=50, start=1, end=100)\n",
    "color = pn.widgets.ColorPicker(name=\"Color\", value=\"#4f4fdf\")\n",
    "calc_button = pn.widgets.Button(name=\"Calculate\", button_type=\"primary\")\n",
    "result = pn.widgets.StaticText()\n",
    "\n",
    "# Create functions.\n",
    "def compute_secs_lived(event):\n",
    "  secs = age.value * 365 * 24 * 60 * 60\n",
    "  result.value = f\"Hello {name.value}, you have lived for approximately {secs} seconds!\"\n",
    "  result.style = {\"color\": color.value}\n",
    "  return result\n",
    "\n",
    "# Create interactions between widgets and functions.\n",
    "calc_button.on_click(compute_secs_lived)\n",
    "\n",
    "# Create person component and add it as a tab.\n",
    "person_inputs = pn.Row(name, age, color)\n",
    "person_component = pn.Column(headings, person_inputs, calc_button, result)\n",
    "tabs.append((\"Person\", person_component))"
   ]
  },
  {
   "cell_type": "code",
   "execution_count": null,
   "metadata": {},
   "outputs": [],
   "source": [
    "# Create map widgets.\n",
    "center = [37, -122]     # center = [vertical distance on y-axis, horizontal distance on x-axis]\n",
    "map = Map(basemap=basemaps.OpenStreetMap.France, center=center, zoom=10)\n",
    "icon = AwesomeIcon(\n",
    "  name=\"heart\",\n",
    "  marker_color=\"blue\",\n",
    "  icon_color=\"plum\",\n",
    "  spin=True\n",
    ")\n",
    "marker = Marker(icon=icon, location=(center[0] - 0.035, center[1] - 0.015))\n",
    "map.add_layer(marker)\n",
    "\n",
    "display_geo_button = pn.widgets.Button(name=\"Display Geometry\", button_type=\"success\")\n",
    "clear_drawings_button = pn.widgets.Button(name=\"Clear Drawings\")\n",
    "\n",
    "geo = \"\"\n",
    "drawing_geometry = pn.widgets.StaticText(name=\"Last Drawing's Geometry\", value=geo)\n",
    "count = 0\n",
    "num_drawings = pn.widgets.StaticText(name=\"Number of Drawings\", value=count)\n",
    "\n",
    "# Create and customize drawing controls.\n",
    "draw_control = DrawControl(polyline={}, polygon={}, circle={}, circlemarker={})\n",
    "draw_control.rectangle = {\n",
    "  \"shapeOptions\": {\n",
    "    \"fillColor\": \"#4f4fdf\",\n",
    "    \"color\": \"#4f4fdf\",\n",
    "    \"fillOpacity\": 0.3\n",
    "  }\n",
    "}\n",
    "map.add_control(draw_control)\n",
    "\n",
    "# Save drawn rectangle and increment number of drawings.\n",
    "def save_drawing(self, action, geo_json):\n",
    "  global geo, count\n",
    "  geo = geo_json[\"geometry\"]\n",
    "  count += 1\n",
    "\n",
    "# Display geometry of recently drawn rectangle and total number of drawings.\n",
    "def print_drawing_geometry(event):\n",
    "  # drawing_geometry.value = draw_control.last_draw[\"geometry\"]\n",
    "  drawing_geometry.value = geo\n",
    "  num_drawings.value = count // 2\n",
    "\n",
    "# Clear all drawings and reset drawing count.\n",
    "def clear_drawings(event):\n",
    "  draw_control.clear()\n",
    "  global geo, count\n",
    "  geo = \"\"\n",
    "  drawing_geometry.value = geo\n",
    "  count = 0\n",
    "  num_drawings.value = count\n",
    "\n",
    "# Create interactions between widgets and functions.\n",
    "draw_control.on_draw(save_drawing)\n",
    "display_geo_button.on_click(print_drawing_geometry)\n",
    "clear_drawings_button.on_click(clear_drawings)\n",
    "\n",
    "# Create map component and add it as a tab.\n",
    "map_buttons = pn.Row(display_geo_button, clear_drawings_button)\n",
    "map_component = pn.Column(map, map_buttons, drawing_geometry, num_drawings)\n",
    "tabs.append((\"Map\", map_component))"
   ]
  },
  {
   "cell_type": "code",
   "execution_count": null,
   "metadata": {},
   "outputs": [],
   "source": [
    "# Create CoastSeg controls with Panel widgets.\n",
    "date_heading = pn.pane.Markdown('''\n",
    "## Pick a date:\n",
    "''')\n",
    "start_date_picker = pn.widgets.DatePicker(name=\"Start Date\", value=date(2018,12,1))\n",
    "end_date_picker = pn.widgets.DatePicker(name=\"End Date\", value=date(2019,3,1))\n",
    "collection_heading = pn.pane.Markdown('''\n",
    "## Pick a collection:\n",
    "C01: LandSat Collection 1 (all images prior to 2022-01-01)\\n\n",
    "C02: LandSat Collection 2 (all images after to 2022-01-01)\\n\n",
    "- LandSat 9 is only available in C02\n",
    "''')\n",
    "collection_radio_button_group = pn.widgets.RadioButtonGroup(name=\"Collection\", options=[\"C01\", \"C02\"], button_type=\"primary\", orientation=\"vertical\")\n",
    "# collection_radio_box_group = pn.widgets.RadioBoxGroup(name=\"Collection\", options=[\"C01\", \"C02\"], inline=False)\n",
    "satellites_heading = pn.pane.Markdown('''\n",
    "## Pick at least one satellite:\n",
    "Unselect a satellite by clicking on the option again.\n",
    "''')\n",
    "satellites_check_button_group = pn.widgets.CheckButtonGroup(name=\"Satellites\", options=[\"L5\", \"L7\", \"L8\", \"S2\"], value=[\"L8\"], button_type=\"warning\")\n",
    "# satellites_multi_select = pn.widgets.MultiSelect(name=\"Satellites\", options=[\"L5\", \"L7\", \"L8\", \"S2\"], value=[\"L8\"])\n",
    "\n",
    "# Create CoastSeg controls component and add it as a tab.\n",
    "date_pickers = pn.Row(start_date_picker, end_date_picker)\n",
    "coastseg_component = pn.Column(date_heading, date_pickers, collection_heading, collection_radio_button_group, satellites_heading, satellites_check_button_group)\n",
    "tabs.append((\"CoastSeg\", coastseg_component))"
   ]
  },
  {
   "cell_type": "code",
   "execution_count": null,
   "metadata": {},
   "outputs": [],
   "source": [
    "# Add components to serve on app.\n",
    "app = pn.Column(\"# My First Panel App!\", tabs)\n",
    "app.servable()"
   ]
  },
  {
   "cell_type": "code",
   "execution_count": null,
   "metadata": {},
   "outputs": [],
   "source": []
  }
 ],
 "metadata": {
  "kernelspec": {
   "display_name": "Python 3 (ipykernel)",
   "language": "python",
   "name": "python3"
  },
  "language_info": {
   "codemirror_mode": {
    "name": "ipython",
    "version": 3
   },
   "file_extension": ".py",
   "mimetype": "text/x-python",
   "name": "python",
   "nbconvert_exporter": "python",
   "pygments_lexer": "ipython3",
   "version": "3.9.12"
  },
  "vscode": {
   "interpreter": {
    "hash": "e07dfb836bcf7693c4ce20f476cfebf40161271fb28d4fef9b22fcb898020fab"
   }
  }
 },
 "nbformat": 4,
 "nbformat_minor": 2
}
