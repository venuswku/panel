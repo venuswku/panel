{
 "cells": [
  {
   "cell_type": "code",
   "execution_count": null,
   "metadata": {},
   "outputs": [],
   "source": [
    "import panel as pn\n",
    "from ipyleaflet import Map, basemaps, DrawControl\n",
    "pn.extension()"
   ]
  },
  {
   "cell_type": "code",
   "execution_count": null,
   "metadata": {},
   "outputs": [],
   "source": [
    "# Create widgets.\n",
    "headings = pn.pane.Markdown('''\n",
    "## Approximately how many seconds have you lived?\n",
    "### Enter your information here and see!\n",
    "''')\n",
    "name = pn.widgets.TextInput(name='Name', value='Venus')\n",
    "age = pn.widgets.IntSlider(name='Age', value=50, start=1, end=100)\n",
    "color = pn.widgets.ColorPicker(name='Color', value='#4f4fdf')\n",
    "button = pn.widgets.Button(name='Calculate', button_type='primary')\n",
    "result = pn.widgets.StaticText()\n",
    "\n",
    "# Create functions.\n",
    "def compute_secs_lived(event):\n",
    "  secs = age.value * 365 * 24 * 60 * 60\n",
    "  result.value = f'Hello {name.value}, you have lived for approximately {secs} seconds!'\n",
    "  result.style = {'color': color.value}\n",
    "  return result\n",
    "\n",
    "# Create interactions between widgets and functions.\n",
    "button.on_click(compute_secs_lived)"
   ]
  },
  {
   "cell_type": "code",
   "execution_count": null,
   "metadata": {},
   "outputs": [],
   "source": [
    "# Create map.\n",
    "map = Map(basemap=basemaps.OpenStreetMap.France, center=[38.128, 2.588], zoom=5)\n",
    "\n",
    "# Create drawing controls.\n",
    "draw_control = DrawControl()\n",
    "draw_control.rectangle = {\n",
    "  \"shapeOptions\": {\n",
    "    \"fillColor\": \"#4f4fdf\",\n",
    "    \"color\": \"#4f4fdf\",\n",
    "    \"fillOpacity\": 0.3\n",
    "  }\n",
    "}\n",
    "map.add_control(draw_control)"
   ]
  },
  {
   "cell_type": "code",
   "execution_count": null,
   "metadata": {},
   "outputs": [],
   "source": [
    "# Add components to serve on app.\n",
    "app = pn.Column(\"# Testing Panel\", headings, name, age, color, button, result, map)\n",
    "app.servable()"
   ]
  }
 ],
 "metadata": {
  "kernelspec": {
   "display_name": "Python 3.9.12 ('base')",
   "language": "python",
   "name": "python3"
  },
  "language_info": {
   "codemirror_mode": {
    "name": "ipython",
    "version": 3
   },
   "file_extension": ".py",
   "mimetype": "text/x-python",
   "name": "python",
   "nbconvert_exporter": "python",
   "pygments_lexer": "ipython3",
   "version": "3.9.12"
  },
  "vscode": {
   "interpreter": {
    "hash": "e07dfb836bcf7693c4ce20f476cfebf40161271fb28d4fef9b22fcb898020fab"
   }
  }
 },
 "nbformat": 4,
 "nbformat_minor": 2
}
